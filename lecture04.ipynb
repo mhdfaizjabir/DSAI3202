{
 "cells": [
  {
   "cell_type": "code",
   "execution_count": 1,
   "metadata": {},
   "outputs": [
    {
     "name": "stdout",
     "output_type": "stream",
     "text": [
      "function_A--> starting \n",
      "\n",
      "function_A--> exiting \n",
      "\n",
      "Thread-4 (do_something_function)--> starting \n",
      "\n",
      "Thread-4 (do_something_function)--> exiting \n",
      "\n"
     ]
    }
   ],
   "source": [
    "import threading\n",
    "import time\n",
    "\n",
    "def do_something_function():\n",
    "    print(threading.current_thread().name + str('--> starting \\n'))\n",
    "    print(threading.current_thread().name + str('--> exiting \\n'))\n",
    "\n",
    "t1 = threading.Thread(name='function_A', target=do_something_function)\n",
    "t2 = threading.Thread(target=do_something_function)\n",
    "t1.start()\n",
    "t2.start()\n",
    "t1.join()\n",
    "t2.join()\n"
   ]
  },
  {
   "cell_type": "code",
   "execution_count": 2,
   "metadata": {},
   "outputs": [
    {
     "name": "stdout",
     "output_type": "stream",
     "text": [
      "--> Thread#1 running, belonging to process ID 21607\n",
      "\n",
      "--> Thread#1 over\n",
      "\n"
     ]
    }
   ],
   "source": [
    "import time\n",
    "import os\n",
    "from threading import Thread\n",
    "\n",
    "# Subclass of Thread\n",
    "class MyThreadSubClass(Thread):\n",
    "    def __init__(self, name, duration):\n",
    "        # Initialize the parent class (Thread)\n",
    "        Thread.__init__(self)\n",
    "        self.name = name\n",
    "        self.duration = duration\n",
    "\n",
    "    def run(self):\n",
    "        print(\"--> \" + self.name + \" running, belonging to process ID \" + str(os.getpid()) + \"\\n\")\n",
    "        time.sleep(self.duration)\n",
    "        print(\"--> \" + self.name + \" over\\n\")\n",
    "\n",
    "# Create an instance of the thread\n",
    "thread1 = MyThreadSubClass(\"Thread#1\", 10)\n",
    "\n",
    "# Start and join the thread\n",
    "thread1.start()\n",
    "thread1.join()\n"
   ]
  }
 ],
 "metadata": {
  "kernelspec": {
   "display_name": "base",
   "language": "python",
   "name": "python3"
  },
  "language_info": {
   "codemirror_mode": {
    "name": "ipython",
    "version": 3
   },
   "file_extension": ".py",
   "mimetype": "text/x-python",
   "name": "python",
   "nbconvert_exporter": "python",
   "pygments_lexer": "ipython3",
   "version": "3.12.4"
  }
 },
 "nbformat": 4,
 "nbformat_minor": 2
}
