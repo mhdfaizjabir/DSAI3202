{
 "cells": [
  {
   "cell_type": "code",
   "execution_count": 1,
   "id": "0533c5c7-4cba-4461-9db0-68268eeb09b5",
   "metadata": {},
   "outputs": [
    {
     "name": "stdout",
     "output_type": "stream",
     "text": [
      "Why did the scarecrow win an award? Because he was outstanding in his field!\n"
     ]
    }
   ],
   "source": [
    "import random\n",
    "\n",
    "# List of jokes\n",
    "jokes = [\n",
    "    \"Why did the scarecrow win an award? Because he was outstanding in his field!\",\n",
    "    \"Parallel lines have so much in common. It's a shame they'll never meet.\",\n",
    "    \"Why did the bicycle fall over? Because it was two-tired!\",\n",
    "    \"What do you call a bear with no teeth? A gummy bear!\",\n",
    "    \"Why did the tomato turn red? Because it saw the salad dressing!\",\n",
    "]\n",
    "\n",
    "def tell_joke():\n",
    "    \"\"\"Randomly selects and prints a joke.\"\"\"\n",
    "    joke = random.choice(jokes)\n",
    "    print(joke)\n",
    "\n",
    "if __name__ == \"__main__\":\n",
    "    tell_joke()\n"
   ]
  },
  {
   "cell_type": "code",
   "execution_count": null,
   "id": "c6dbe686-d917-412b-b587-9687d5ebe37f",
   "metadata": {},
   "outputs": [],
   "source": []
  }
 ],
 "metadata": {
  "kernelspec": {
   "display_name": "Python 3 (ipykernel)",
   "language": "python",
   "name": "python3"
  },
  "language_info": {
   "codemirror_mode": {
    "name": "ipython",
    "version": 3
   },
   "file_extension": ".py",
   "mimetype": "text/x-python",
   "name": "python",
   "nbconvert_exporter": "python",
   "pygments_lexer": "ipython3",
   "version": "3.12.4"
  }
 },
 "nbformat": 4,
 "nbformat_minor": 5
}
