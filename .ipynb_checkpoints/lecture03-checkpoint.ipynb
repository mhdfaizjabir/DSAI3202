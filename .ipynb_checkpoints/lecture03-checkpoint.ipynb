{
 "cells": [
  {
   "cell_type": "code",
   "execution_count": 14,
   "id": "50fe4c98-24a9-4ed1-9cc6-62c5f1aa5b04",
   "metadata": {},
   "outputs": [
    {
     "name": "stdout",
     "output_type": "stream",
     "text": [
      "since start: 1726403919.9301753,thread1:2\n",
      "since start: 1726403920.9304457,thread1:4\n",
      "since start: 1726403920.9307222,thread2:2\n",
      "since start: 1726403921.9306152,thread1:6\n",
      "since start: 1726403922.9308276,thread2:4\n",
      "since start: 1726403924.9310663,thread2:6\n",
      "exiting the program\n"
     ]
    }
   ],
   "source": [
    "import time \n",
    "import threading \n",
    "def print_number(thread_name: str,delay, start_time):\n",
    "    start_time=0\n",
    "    count=0\n",
    "    while count < 5:\n",
    "        time.sleep(delay)\n",
    "        count+=2\n",
    "        since_start=time.time()-start_time\n",
    "        print(f\"since start: {since_start},{thread_name}:{count}\")\n",
    "start_time=time.time()\n",
    "t1=threading.Thread(target = print_number, args=(\"thread1\",1,start_time))\n",
    "t2=threading.Thread(target = print_number, args=(\"thread2\",2,start_time))\n",
    "t1.start()\n",
    "t2.start()\n",
    "t1.join()\n",
    "t2.join()\n",
    "print('exiting the program')"
   ]
  },
  {
   "cell_type": "code",
   "execution_count": 1,
   "id": "64bf7319-67c0-4bea-9f7b-3cc040e0c23a",
   "metadata": {},
   "outputs": [
    {
     "name": "stdout",
     "output_type": "stream",
     "text": [
      "Time taken : 7.557868957519531e-05second\n"
     ]
    }
   ],
   "source": [
    "import random\n",
    "import time\n",
    "import threading \n",
    "import string \n",
    "def join_random_letters():\n",
    "    letters=[random.choice(string.ascii_letters) for _ in range (100)]\n",
    "    joined_letters= ' '.join(letters)\n",
    "    return joined_letters\n",
    "def add_random_numbers():\n",
    "    number=[random.randint(1,10000) for _ in range(100)]\n",
    "    total_sum=sum(number)\n",
    "    return total_sum\n",
    "\n",
    "total_start_time=time.time()\n",
    "t1=threading.Thread(target = join_random_letters)\n",
    "t2=threading.Thread(target = add_random_numbers)\n",
    "total_end_time=time.time()\n",
    "\n",
    "join_random_letters()\n",
    "add_random_numbers()\n",
    "#Time taken : 0.0057332515716552734second\n",
    "#Time taken : 8.034706115722656e-05second\n",
    "print(f\"Time taken : {total_end_time - total_start_time}second\")"
   ]
  },
  {
   "cell_type": "code",
   "execution_count": 2,
   "id": "558f51c3-836e-420b-a29c-e2f148553b82",
   "metadata": {},
   "outputs": [
    {
     "name": "stdout",
     "output_type": "stream",
     "text": [
      "Process-1: 1\n",
      "Process-2: 1\n",
      "Process-1: 2\n",
      "Process-1: 3\n",
      "Process-2: 2\n",
      "Process-1: 4\n",
      "Process-1: 5\n",
      "Process-2: 3\n",
      "Process-2: 4\n",
      "Process-2: 5\n"
     ]
    }
   ],
   "source": [
    "import multiprocessing\n",
    "import time\n",
    " # Function to be executed in a process\n",
    "def print_numbers(process_name, delay):\n",
    "   count = 0\n",
    "   while count < 5:\n",
    "     time.sleep(delay)\n",
    "     count += 1\n",
    "     print(f\"{process_name}: {count}\")\n",
    "# Create two processes\n",
    "process1 =multiprocessing.Process(target=print_numbers,\n",
    "args=(\"Process-1\", 1))\n",
    "process2 = multiprocessing.Process(target=print_numbers,\n",
    "args=(\"Process-2\", 2))\n",
    "# Start the processes\n",
    "process1.start()\n",
    "process2.start()\n",
    " # Wait for all processes to complete\n",
    "process1.join()\n",
    "process2.join()"
   ]
  },
  {
   "cell_type": "code",
   "execution_count": null,
   "id": "1a2e30e9-46cf-4dea-9a73-b6bea5967c57",
   "metadata": {},
   "outputs": [],
   "source": []
  }
 ],
 "metadata": {
  "kernelspec": {
   "display_name": "Python 3 (ipykernel)",
   "language": "python",
   "name": "python3"
  },
  "language_info": {
   "codemirror_mode": {
    "name": "ipython",
    "version": 3
   },
   "file_extension": ".py",
   "mimetype": "text/x-python",
   "name": "python",
   "nbconvert_exporter": "python",
   "pygments_lexer": "ipython3",
   "version": "3.12.4"
  }
 },
 "nbformat": 4,
 "nbformat_minor": 5
}
